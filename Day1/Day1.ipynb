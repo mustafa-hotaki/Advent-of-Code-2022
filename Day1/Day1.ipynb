{
  "nbformat": 4,
  "nbformat_minor": 0,
  "metadata": {
    "colab": {
      "provenance": []
    },
    "kernelspec": {
      "name": "python3",
      "display_name": "Python 3"
    },
    "language_info": {
      "name": "python"
    }
  },
  "cells": [
    {
      "cell_type": "markdown",
      "source": [
        "# Advent of Code 2022 - Day 1"
      ],
      "metadata": {
        "id": "_gVHIOj-7UiJ"
      }
    },
    {
      "cell_type": "code",
      "source": [
        "data = ''\n",
        "with open(\"inputs_day_1.txt\", \"r\") as f:\n",
        "    for line in f:\n",
        "        data += line"
      ],
      "metadata": {
        "id": "djJbnvxN7YTF"
      },
      "execution_count": 1,
      "outputs": []
    },
    {
      "cell_type": "markdown",
      "source": [
        "## Part 1"
      ],
      "metadata": {
        "id": "f8bIVyZj7g1B"
      }
    },
    {
      "cell_type": "code",
      "source": [
        "sorted_total_calories = sorted([sum([int(c) for c in x.split('\\n')]) for x in data.split('\\n\\n')], reverse=True)\n",
        "sorted_total_calories[1]"
      ],
      "metadata": {
        "colab": {
          "base_uri": "https://localhost:8080/"
        },
        "id": "-Lm4i3-aznbZ",
        "outputId": "59f19a8d-acd1-4dd8-dee1-ce6a1372310d"
      },
      "execution_count": 2,
      "outputs": [
        {
          "output_type": "execute_result",
          "data": {
            "text/plain": [
              "69171"
            ]
          },
          "metadata": {},
          "execution_count": 2
        }
      ]
    },
    {
      "cell_type": "code",
      "source": [
        "sum(sorted_total_calories[:3])"
      ],
      "metadata": {
        "colab": {
          "base_uri": "https://localhost:8080/"
        },
        "id": "0KjXhTaFzYIF",
        "outputId": "1282474c-3afc-4f60-fb2a-61a98765cedf"
      },
      "execution_count": 3,
      "outputs": [
        {
          "output_type": "execute_result",
          "data": {
            "text/plain": [
              "207456"
            ]
          },
          "metadata": {},
          "execution_count": 3
        }
      ]
    },
    {
      "cell_type": "code",
      "source": [],
      "metadata": {
        "id": "l5Bw3tMnE1nD"
      },
      "execution_count": 3,
      "outputs": []
    }
  ]
}