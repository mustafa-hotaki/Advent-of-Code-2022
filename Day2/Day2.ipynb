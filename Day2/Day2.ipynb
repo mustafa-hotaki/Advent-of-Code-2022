{
  "nbformat": 4,
  "nbformat_minor": 0,
  "metadata": {
    "colab": {
      "provenance": []
    },
    "kernelspec": {
      "name": "python3",
      "display_name": "Python 3"
    },
    "language_info": {
      "name": "python"
    }
  },
  "cells": [
    {
      "cell_type": "markdown",
      "source": [
        "# Advent of Code 2022 - Day "
      ],
      "metadata": {
        "id": "lyanGtMJBdbv"
      }
    },
    {
      "cell_type": "code",
      "source": [
        "data = []\n",
        "with open(\"inputs_day_2.txt\", \"r\") as f:\n",
        "    for line in f:\n",
        "        data.append(tuple(line.strip().split(' ')))\n",
        "\n",
        "print('First 10 data points:', data[:10])\n",
        "print('Number of data points:', len(data))"
      ],
      "metadata": {
        "colab": {
          "base_uri": "https://localhost:8080/"
        },
        "id": "P5XbxIsBBehP",
        "outputId": "d1487a26-3641-4232-d541-bc4df6ca2a17"
      },
      "execution_count": null,
      "outputs": [
        {
          "output_type": "stream",
          "name": "stdout",
          "text": [
            "First 10 data points: [('B', 'Z'), ('C', 'Z'), ('C', 'Z'), ('A', 'Y'), ('B', 'Z'), ('C', 'Y'), ('C', 'Z'), ('C', 'Y'), ('C', 'X'), ('A', 'Z')]\n",
            "Number of data points: 2500\n"
          ]
        }
      ]
    },
    {
      "cell_type": "markdown",
      "source": [
        "## Part 1"
      ],
      "metadata": {
        "id": "r0ocyFO-8WZf"
      }
    },
    {
      "cell_type": "code",
      "source": [
        "# A for Rock, B for Paper, and C for Scissors.\n",
        "# X for Rock, Y for Paper, and Z for Scissors.\n",
        "\n",
        "# Index corresponds with the index in matrix (R, P, S) - Also Index = value - 1\n",
        "# Hashmap for faster lookup\n",
        "o_moves = {x: i for i, x in enumerate(['A', 'B', 'C'])}\n",
        "m_moves = {x: i for i, x in enumerate(['X', 'Y', 'Z'])}\n",
        "\n",
        "# Row index corresponds to opponent's move R, P, S, \n",
        "# Column index corresponds to our move\n",
        "# Element at matrix[i][j] is win/loss/tie indicator\n",
        "matrix = [[3, 6, 0], \n",
        "          [0, 3, 6], \n",
        "          [6, 0, 3]]\n",
        "\n",
        "total_score = 0\n",
        "for x, y in data:\n",
        "    o = o_moves[x]\n",
        "    m = m_moves[y]\n",
        "    score = m + 1 + matrix[o][m]\n",
        "    total_score += score\n",
        "\n",
        "total_score"
      ],
      "metadata": {
        "colab": {
          "base_uri": "https://localhost:8080/"
        },
        "id": "6OJiTW-ftTZE",
        "outputId": "3e1d0789-ecfc-43f3-ddc2-b746bf96800d"
      },
      "execution_count": null,
      "outputs": [
        {
          "output_type": "execute_result",
          "data": {
            "text/plain": [
              "14163"
            ]
          },
          "metadata": {},
          "execution_count": 6
        }
      ]
    },
    {
      "cell_type": "markdown",
      "source": [
        "## Part 2"
      ],
      "metadata": {
        "id": "5jp0Cf068X-Q"
      }
    },
    {
      "cell_type": "code",
      "source": [
        "# X means you need to lose, Y means you need to end the round in a draw, and Z means you need to win.\n",
        "\n",
        "# Solution could be made more efficient with a reverse lookup rather than searching\n",
        "\n",
        "# Index corresponds with the index in matrix (R, P, S) - Also Index = value - 1\n",
        "# Hashmap for faster lookup\n",
        "moves = {x: i for i, x in enumerate(['A', 'B', 'C'])}\n",
        "targets = {'X': 0, 'Y': 3, 'Z': 6}\n",
        "\n",
        "# Row index corresponds to opponent's move R, P, S, \n",
        "# Column index corresponds to our move\n",
        "# Element at matrix[i][j] is win/loss/tie score\n",
        "matrix = [[3, 6, 0], \n",
        "          [0, 3, 6], \n",
        "          [6, 0, 3]]\n",
        "\n",
        "total_score = 0\n",
        "for x, y in data:\n",
        "    o = moves[x] # Index of oponent's move\n",
        "    target = targets[y] # Target win/loss/tie score\n",
        "    m = matrix[o].index(target) # Move to achieve target win/loss/tie score\n",
        "    score = m + 1 + matrix[o][m] # Final score\n",
        "    total_score += score\n",
        "\n",
        "total_score"
      ],
      "metadata": {
        "colab": {
          "base_uri": "https://localhost:8080/"
        },
        "id": "XYB_4NZzueuQ",
        "outputId": "5c7bfd02-512f-4111-d9e0-b4992e8de603"
      },
      "execution_count": null,
      "outputs": [
        {
          "output_type": "execute_result",
          "data": {
            "text/plain": [
              "12091"
            ]
          },
          "metadata": {},
          "execution_count": 4
        }
      ]
    },
    {
      "cell_type": "code",
      "source": [],
      "metadata": {
        "id": "zqxxZAcxxcv1"
      },
      "execution_count": null,
      "outputs": []
    }
  ]
}