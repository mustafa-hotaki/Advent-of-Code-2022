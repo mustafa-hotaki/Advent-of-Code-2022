{
  "nbformat": 4,
  "nbformat_minor": 0,
  "metadata": {
    "colab": {
      "provenance": []
    },
    "kernelspec": {
      "name": "python3",
      "display_name": "Python 3"
    },
    "language_info": {
      "name": "python"
    }
  },
  "cells": [
    {
      "cell_type": "markdown",
      "source": [
        "# Advent of Code 2022 - Day 3"
      ],
      "metadata": {
        "id": "5M8Ovtn-Lvk9"
      }
    },
    {
      "cell_type": "code",
      "source": [
        "data = []\n",
        "with open(\"inputs_day_3.txt\", \"r\") as f:\n",
        "    for line in f:\n",
        "        data.append(line.strip())\n",
        "\n",
        "print('First 10 data points:', data[:10])\n",
        "print('Number of data points:', len(data))"
      ],
      "metadata": {
        "colab": {
          "base_uri": "https://localhost:8080/"
        },
        "id": "Tl1nAw0PLxX6",
        "outputId": "0d2502db-a572-46b4-8ff3-efe03c03cf7e"
      },
      "execution_count": null,
      "outputs": [
        {
          "output_type": "stream",
          "name": "stdout",
          "text": [
            "First 10 data points: ['lvcNpRHDCnTLCJlL', 'RFZggsMrjTFGCJmdmd', 'srsBZgBqwBqRZbzqtHpzzDNtHDqV', 'CCTPpCvlpzzZQQQflrzbQDttTJcgcggJcHtcddtdhT', 'nMLBRnGsFFLznRFRLMMNBnNLDRDdhScJccctdSccJJgDDHhH', 'GVBGVBsLjsrrvfzpjpfQ', 'dzVRSPVVBVDSPzDBQVSQFFlrclMplpMJMtPJlJvHZCMt', 'TjmGmbhjTnTmwhmrvvrHcZvCHZMl', 'fnLwwqfwfqjghHwGThwfTGGBFVDFFsszSRVzRBsdBDgFsV', 'CCWFCcdDWwcWFpSvggnzRRQszngJwT']\n",
            "Number of data points: 300\n"
          ]
        }
      ]
    },
    {
      "cell_type": "markdown",
      "source": [
        "## Part 1"
      ],
      "metadata": {
        "id": "QiaKZ5NH5hrI"
      }
    },
    {
      "cell_type": "code",
      "source": [
        "from string import ascii_letters\n",
        "\n",
        "# Hashmap for faster lookup\n",
        "priorities = {x : i + 1 for i, x in enumerate(ascii_letters)}\n",
        "\n",
        "total_priorities = 0\n",
        "for line in data:\n",
        "    a = line[:int(len(line) / 2)]\n",
        "    b = line[int(len(line) / 2):]\n",
        "    common = set.intersection(set(a), set(b)) # Quick way to find common elements\n",
        "\n",
        "    # In case there are multiple common letters but that doesn't seem to be the case\n",
        "    total_priorities += sum([priorities[c] for c in common])\n",
        "\n",
        "total_priorities"
      ],
      "metadata": {
        "colab": {
          "base_uri": "https://localhost:8080/"
        },
        "id": "cUv80tbcW1kQ",
        "outputId": "042e4430-7851-4487-a349-946b97b80c37"
      },
      "execution_count": null,
      "outputs": [
        {
          "output_type": "execute_result",
          "data": {
            "text/plain": [
              "7997"
            ]
          },
          "metadata": {},
          "execution_count": 3
        }
      ]
    },
    {
      "cell_type": "markdown",
      "source": [
        "## Part 2"
      ],
      "metadata": {
        "id": "obsbD11t5jeZ"
      }
    },
    {
      "cell_type": "code",
      "source": [
        "# Group every 3 lines\n",
        "groups = [data[i : i + 3] for i in range(0, len(data), 3)]\n",
        "\n",
        "total_priorities = 0\n",
        "for group in groups:\n",
        "    common = set.intersection(*[set(x) for x in group]) # Quick way to find common elements\n",
        "\n",
        "    # In case there are multiple common letters but that doesn't seem to be the case\n",
        "    total_priorities += sum([priorities[c] for c in common])\n",
        "\n",
        "total_priorities"
      ],
      "metadata": {
        "colab": {
          "base_uri": "https://localhost:8080/"
        },
        "id": "mlwTokUOZ897",
        "outputId": "5ac5fbdf-49c7-44aa-ff9c-13440ff7bd71"
      },
      "execution_count": null,
      "outputs": [
        {
          "output_type": "execute_result",
          "data": {
            "text/plain": [
              "2545"
            ]
          },
          "metadata": {},
          "execution_count": 4
        }
      ]
    },
    {
      "cell_type": "code",
      "source": [],
      "metadata": {
        "id": "1SJ_IfPuziT8"
      },
      "execution_count": null,
      "outputs": []
    }
  ]
}