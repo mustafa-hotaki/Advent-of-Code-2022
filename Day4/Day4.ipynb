{
  "nbformat": 4,
  "nbformat_minor": 0,
  "metadata": {
    "colab": {
      "provenance": []
    },
    "kernelspec": {
      "name": "python3",
      "display_name": "Python 3"
    },
    "language_info": {
      "name": "python"
    }
  },
  "cells": [
    {
      "cell_type": "markdown",
      "source": [
        "# Advent of Code 2022 - Day 4"
      ],
      "metadata": {
        "id": "sxJO0IYrY4hf"
      }
    },
    {
      "cell_type": "code",
      "source": [
        "data = []\n",
        "with open(\"inputs_day_4.txt\", \"r\") as f:\n",
        "    for line in f:\n",
        "        data.append(tuple([tuple([int(i) for i in x.split('-')]) for x in line.strip().split(',')]))\n",
        "\n",
        "print('First 10 data points:', data[:10])\n",
        "print('Number of data points:', len(data))"
      ],
      "metadata": {
        "colab": {
          "base_uri": "https://localhost:8080/"
        },
        "id": "F7yZn3U0Y46G",
        "outputId": "6413fd86-5a92-4042-b69d-38732486dbc2"
      },
      "execution_count": 24,
      "outputs": [
        {
          "output_type": "stream",
          "name": "stdout",
          "text": [
            "First 10 data points: [((99, 99), (18, 99)), ((2, 86), (1, 86)), ((9, 21), (10, 22)), ((1, 24), (7, 23)), ((33, 37), (35, 38)), ((15, 57), (14, 56)), ((1, 88), (3, 89)), ((26, 56), (27, 57)), ((11, 94), (93, 98)), ((40, 92), (3, 91))]\n",
            "Number of data points: 1000\n"
          ]
        }
      ]
    },
    {
      "cell_type": "code",
      "source": [
        "count = 0\n",
        "for a, b in data:\n",
        "    count += (a[0] >= b[0] and a[1] <= b[1]) or (b[0] >= a[0] and b[1] <= a[1])\n",
        "count"
      ],
      "metadata": {
        "colab": {
          "base_uri": "https://localhost:8080/"
        },
        "id": "s5wz_V40UTDB",
        "outputId": "d589ddfc-c657-423a-bcb7-8e07a2ba61e9"
      },
      "execution_count": 25,
      "outputs": [
        {
          "output_type": "execute_result",
          "data": {
            "text/plain": [
              "424"
            ]
          },
          "metadata": {},
          "execution_count": 25
        }
      ]
    },
    {
      "cell_type": "code",
      "source": [
        "# https://stackoverflow.com/questions/3269434/whats-the-most-efficient-way-to-test-if-two-ranges-overlap\n",
        "count = 0\n",
        "for a, b in data:\n",
        "    count += max(a[0], b[0]) <= min(a[1], b[1])\n",
        "\n",
        "count"
      ],
      "metadata": {
        "colab": {
          "base_uri": "https://localhost:8080/"
        },
        "id": "yBpKwHEmUwSC",
        "outputId": "eabcf402-7e64-408f-d6f5-d3371a99e970"
      },
      "execution_count": 26,
      "outputs": [
        {
          "output_type": "execute_result",
          "data": {
            "text/plain": [
              "804"
            ]
          },
          "metadata": {},
          "execution_count": 26
        }
      ]
    },
    {
      "cell_type": "code",
      "source": [],
      "metadata": {
        "id": "el3FSgq_XktN"
      },
      "execution_count": null,
      "outputs": []
    }
  ]
}